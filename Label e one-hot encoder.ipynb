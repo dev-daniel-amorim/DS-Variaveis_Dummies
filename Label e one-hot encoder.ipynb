{
 "cells": [
  {
   "cell_type": "markdown",
   "id": "c1c98eeb",
   "metadata": {},
   "source": [
    "# Variáveis Dummies\n",
    "\n",
    "    * São variáveis binárias representadas por 0 ou 1, indicando ausência ou presença respectivamente de atributos em variáveis categoricas. As máquinas só entendem números e não letras, por isso a necessidade de se converter variáveis do tipo texto em números que possam ser interpretados pelas máquinas. \n",
    "    \n",
    "    "
   ]
  },
  {
   "cell_type": "markdown",
   "id": "e486107f",
   "metadata": {},
   "source": [
    "<img src='variaveis.png'>"
   ]
  },
  {
   "cell_type": "markdown",
   "id": "dfd17021",
   "metadata": {},
   "source": [
    "Numéricos: Como proprio nome diz, são variaveis representadas por números:\n",
    "   * Discreto: Representa algo naquele momento, número de chegada, numéro da casa e etc.\n",
    "   * Continuo: Valor de algo continuo, PI, massa da terra etc.\n",
    "\n",
    "Categórico: Representádo por algo que não é numérico:\n",
    "   * Nominal: sexo - masculino e feminino (não há hierarquia)\n",
    "   * Ordinal: desenvolvedor - junior, pleno, senior (há hierarquia)"
   ]
  },
  {
   "cell_type": "code",
   "execution_count": 79,
   "id": "03ee9ff5",
   "metadata": {},
   "outputs": [
    {
     "data": {
      "text/html": [
       "<div>\n",
       "<style scoped>\n",
       "    .dataframe tbody tr th:only-of-type {\n",
       "        vertical-align: middle;\n",
       "    }\n",
       "\n",
       "    .dataframe tbody tr th {\n",
       "        vertical-align: top;\n",
       "    }\n",
       "\n",
       "    .dataframe thead th {\n",
       "        text-align: right;\n",
       "    }\n",
       "</style>\n",
       "<table border=\"1\" class=\"dataframe\">\n",
       "  <thead>\n",
       "    <tr style=\"text-align: right;\">\n",
       "      <th></th>\n",
       "      <th>raça</th>\n",
       "      <th>idade</th>\n",
       "      <th>peso</th>\n",
       "    </tr>\n",
       "  </thead>\n",
       "  <tbody>\n",
       "    <tr>\n",
       "      <th>0</th>\n",
       "      <td>Husky</td>\n",
       "      <td>3</td>\n",
       "      <td>12.5</td>\n",
       "    </tr>\n",
       "    <tr>\n",
       "      <th>1</th>\n",
       "      <td>fila</td>\n",
       "      <td>7</td>\n",
       "      <td>11.0</td>\n",
       "    </tr>\n",
       "    <tr>\n",
       "      <th>2</th>\n",
       "      <td>golden</td>\n",
       "      <td>5</td>\n",
       "      <td>9.0</td>\n",
       "    </tr>\n",
       "    <tr>\n",
       "      <th>3</th>\n",
       "      <td>pastor</td>\n",
       "      <td>6</td>\n",
       "      <td>10.0</td>\n",
       "    </tr>\n",
       "    <tr>\n",
       "      <th>4</th>\n",
       "      <td>fila</td>\n",
       "      <td>2</td>\n",
       "      <td>7.0</td>\n",
       "    </tr>\n",
       "  </tbody>\n",
       "</table>\n",
       "</div>"
      ],
      "text/plain": [
       "     raça  idade  peso\n",
       "0   Husky      3  12.5\n",
       "1    fila      7  11.0\n",
       "2  golden      5   9.0\n",
       "3  pastor      6  10.0\n",
       "4    fila      2   7.0"
      ]
     },
     "metadata": {},
     "output_type": "display_data"
    }
   ],
   "source": [
    "import pandas as pd\n",
    "dados = {'raça':['Husky', 'fila', 'golden', 'pastor', 'fila'], 'idade':[3, 7, 5, 6, 2], 'peso':[12.5, 11, 9, 10, 7]}\n",
    "df = pd.DataFrame(dados)\n",
    "display(df)"
   ]
  },
  {
   "cell_type": "code",
   "execution_count": 88,
   "id": "5a63e683",
   "metadata": {},
   "outputs": [
    {
     "name": "stdout",
     "output_type": "stream",
     "text": [
      "<class 'pandas.core.frame.DataFrame'>\n",
      "RangeIndex: 5 entries, 0 to 4\n",
      "Data columns (total 5 columns):\n",
      " #   Column  Non-Null Count  Dtype  \n",
      "---  ------  --------------  -----  \n",
      " 0   idade   5 non-null      int64  \n",
      " 1   raça_0  5 non-null      float64\n",
      " 2   raça_1  5 non-null      float64\n",
      " 3   raça_2  5 non-null      float64\n",
      " 4   raça_3  5 non-null      float64\n",
      "dtypes: float64(4), int64(1)\n",
      "memory usage: 328.0 bytes\n"
     ]
    }
   ],
   "source": [
    "# Verificando dados categoricos (object)\n",
    "df.info()"
   ]
  },
  {
   "cell_type": "markdown",
   "id": "f9dbb958",
   "metadata": {},
   "source": [
    "# Método Label Encoder"
   ]
  },
  {
   "cell_type": "code",
   "execution_count": 81,
   "id": "adadf532",
   "metadata": {},
   "outputs": [
    {
     "data": {
      "text/html": [
       "<div>\n",
       "<style scoped>\n",
       "    .dataframe tbody tr th:only-of-type {\n",
       "        vertical-align: middle;\n",
       "    }\n",
       "\n",
       "    .dataframe tbody tr th {\n",
       "        vertical-align: top;\n",
       "    }\n",
       "\n",
       "    .dataframe thead th {\n",
       "        text-align: right;\n",
       "    }\n",
       "</style>\n",
       "<table border=\"1\" class=\"dataframe\">\n",
       "  <thead>\n",
       "    <tr style=\"text-align: right;\">\n",
       "      <th></th>\n",
       "      <th>raça</th>\n",
       "      <th>idade</th>\n",
       "      <th>peso</th>\n",
       "    </tr>\n",
       "  </thead>\n",
       "  <tbody>\n",
       "    <tr>\n",
       "      <th>0</th>\n",
       "      <td>0</td>\n",
       "      <td>3</td>\n",
       "      <td>12.5</td>\n",
       "    </tr>\n",
       "    <tr>\n",
       "      <th>1</th>\n",
       "      <td>1</td>\n",
       "      <td>7</td>\n",
       "      <td>11.0</td>\n",
       "    </tr>\n",
       "    <tr>\n",
       "      <th>2</th>\n",
       "      <td>2</td>\n",
       "      <td>5</td>\n",
       "      <td>9.0</td>\n",
       "    </tr>\n",
       "    <tr>\n",
       "      <th>3</th>\n",
       "      <td>3</td>\n",
       "      <td>6</td>\n",
       "      <td>10.0</td>\n",
       "    </tr>\n",
       "    <tr>\n",
       "      <th>4</th>\n",
       "      <td>1</td>\n",
       "      <td>2</td>\n",
       "      <td>7.0</td>\n",
       "    </tr>\n",
       "  </tbody>\n",
       "</table>\n",
       "</div>"
      ],
      "text/plain": [
       "   raça  idade  peso\n",
       "0     0      3  12.5\n",
       "1     1      7  11.0\n",
       "2     2      5   9.0\n",
       "3     3      6  10.0\n",
       "4     1      2   7.0"
      ]
     },
     "metadata": {},
     "output_type": "display_data"
    }
   ],
   "source": [
    "# Importando Label Encoder\n",
    "from sklearn.preprocessing import LabelEncoder, OneHotEncoder\n",
    "\n",
    "# Aplicando o encoder\n",
    "encoder = LabelEncoder().fit(df['raça'])\n",
    "df['raça'] = encoder.transform(df['raça'])\n",
    "\n",
    "display(df)"
   ]
  },
  {
   "cell_type": "markdown",
   "id": "be91e86b",
   "metadata": {},
   "source": [
    "Note que agora cada raça esta sendo representada por um inteiro. fila = 1"
   ]
  },
  {
   "cell_type": "markdown",
   "id": "b7e7bb1c",
   "metadata": {},
   "source": [
    "# Método One-Hot Encoder"
   ]
  },
  {
   "cell_type": "code",
   "execution_count": 82,
   "id": "960c0d97",
   "metadata": {},
   "outputs": [
    {
     "data": {
      "text/plain": [
       "array([[1., 0., 0., 0.],\n",
       "       [0., 1., 0., 0.],\n",
       "       [0., 0., 1., 0.],\n",
       "       [0., 0., 0., 1.],\n",
       "       [0., 1., 0., 0.]])"
      ]
     },
     "metadata": {},
     "output_type": "display_data"
    }
   ],
   "source": [
    "ht = OneHotEncoder()\n",
    "\n",
    "X = ht.fit_transform(df.raça.values.reshape(-1,1)).toarray()\n",
    "\n",
    "display(x)"
   ]
  },
  {
   "cell_type": "code",
   "execution_count": 83,
   "id": "0b82f7b5",
   "metadata": {},
   "outputs": [
    {
     "name": "stdout",
     "output_type": "stream",
     "text": [
      "   idade  peso  raça_0  raça_1  raça_2  raça_3\n",
      "0      3  12.5     1.0     0.0     0.0     0.0\n",
      "1      7  11.0     0.0     1.0     0.0     0.0\n",
      "2      5   9.0     0.0     0.0     1.0     0.0\n",
      "3      6  10.0     0.0     0.0     0.0     1.0\n",
      "4      2   7.0     0.0     1.0     0.0     0.0\n"
     ]
    }
   ],
   "source": [
    "df_hot= pd.DataFrame(X, columns=['raça_'+str(int(i)) for i in range(df.shape[1]+1)])\n",
    "\n",
    "df = pd.concat([df, df_hot], axis=1)\n",
    "\n",
    "df = df.drop([\"raça\"], axis=1)\n",
    "print(df)"
   ]
  },
  {
   "cell_type": "markdown",
   "id": "075197a8",
   "metadata": {},
   "source": [
    "# Pandas GET_DUMMIES\n",
    "    * Função pronta do pandas que converte variáveis categóricas usando método one-hot agilizando o processo. (descomente para usa-la, lembrando de aplicar ao dataframe sem tratmento dummie ou dará erro.)"
   ]
  },
  {
   "cell_type": "code",
   "execution_count": 84,
   "id": "d308c9a0",
   "metadata": {},
   "outputs": [],
   "source": [
    "# No lugar do one-hot podemos usar get_dummies do Pandas\n",
    "\n",
    "# col_dummies = ['raça']\n",
    "# df = pd.get_dummies(df, columns = col_dummies)\n",
    "# display(df)"
   ]
  },
  {
   "cell_type": "markdown",
   "id": "f267957d",
   "metadata": {},
   "source": [
    "# MULTICOLINEARIDADE"
   ]
  },
  {
   "cell_type": "code",
   "execution_count": 85,
   "id": "6db1feee",
   "metadata": {},
   "outputs": [],
   "source": [
    "# Nível de pontuação VIF\n",
    "import statsmodels.api as sm\n",
    "\n",
    "def pontuação_vif(df):\n",
    "    vif_df = pd.DataFrame(columns = ['var', 'vif'])\n",
    "    x_var_names = df.columns\n",
    "    \n",
    "    # Para o número total de colunas na tabela\n",
    "    for i in range(0, x_var_names.shape[0]):\n",
    "        y = df[x_var_names[i]]\n",
    "        x = df[x_var_names.drop([x_var_names[i]])]\n",
    "        r_squared = sm.OLS(y,x).fit().rsquared\n",
    "        \n",
    "        # Formula do calculo do vif\n",
    "        vif = round(1/(1-r_squared),2)\n",
    "        \n",
    "        vif_df.loc[i] = [x_var_names[i], vif]\n",
    "        \n",
    "    return vif_df.sort_values(by = 'vif', axis=0, ascending=False, inplace=False)\n",
    "        "
   ]
  },
  {
   "cell_type": "code",
   "execution_count": 86,
   "id": "6c0c0a09",
   "metadata": {},
   "outputs": [
    {
     "name": "stderr",
     "output_type": "stream",
     "text": [
      "C:\\Users\\devda\\AppData\\Local\\Temp\\ipykernel_39544\\892647007.py:15: RuntimeWarning: divide by zero encountered in double_scalars\n",
      "  vif = round(1/(1-r_squared),2)\n",
      "C:\\Users\\devda\\AppData\\Local\\Temp\\ipykernel_39544\\892647007.py:15: RuntimeWarning: divide by zero encountered in double_scalars\n",
      "  vif = round(1/(1-r_squared),2)\n",
      "C:\\Users\\devda\\AppData\\Local\\Temp\\ipykernel_39544\\892647007.py:15: RuntimeWarning: divide by zero encountered in double_scalars\n",
      "  vif = round(1/(1-r_squared),2)\n",
      "C:\\Users\\devda\\AppData\\Local\\Temp\\ipykernel_39544\\892647007.py:15: RuntimeWarning: divide by zero encountered in double_scalars\n",
      "  vif = round(1/(1-r_squared),2)\n",
      "C:\\Users\\devda\\AppData\\Local\\Temp\\ipykernel_39544\\892647007.py:15: RuntimeWarning: divide by zero encountered in double_scalars\n",
      "  vif = round(1/(1-r_squared),2)\n",
      "C:\\Users\\devda\\AppData\\Local\\Temp\\ipykernel_39544\\892647007.py:15: RuntimeWarning: divide by zero encountered in double_scalars\n",
      "  vif = round(1/(1-r_squared),2)\n"
     ]
    },
    {
     "data": {
      "text/html": [
       "<div>\n",
       "<style scoped>\n",
       "    .dataframe tbody tr th:only-of-type {\n",
       "        vertical-align: middle;\n",
       "    }\n",
       "\n",
       "    .dataframe tbody tr th {\n",
       "        vertical-align: top;\n",
       "    }\n",
       "\n",
       "    .dataframe thead th {\n",
       "        text-align: right;\n",
       "    }\n",
       "</style>\n",
       "<table border=\"1\" class=\"dataframe\">\n",
       "  <thead>\n",
       "    <tr style=\"text-align: right;\">\n",
       "      <th></th>\n",
       "      <th>var</th>\n",
       "      <th>vif</th>\n",
       "    </tr>\n",
       "  </thead>\n",
       "  <tbody>\n",
       "    <tr>\n",
       "      <th>0</th>\n",
       "      <td>idade</td>\n",
       "      <td>inf</td>\n",
       "    </tr>\n",
       "    <tr>\n",
       "      <th>1</th>\n",
       "      <td>peso</td>\n",
       "      <td>inf</td>\n",
       "    </tr>\n",
       "    <tr>\n",
       "      <th>2</th>\n",
       "      <td>raça_0</td>\n",
       "      <td>inf</td>\n",
       "    </tr>\n",
       "    <tr>\n",
       "      <th>3</th>\n",
       "      <td>raça_1</td>\n",
       "      <td>inf</td>\n",
       "    </tr>\n",
       "    <tr>\n",
       "      <th>4</th>\n",
       "      <td>raça_2</td>\n",
       "      <td>inf</td>\n",
       "    </tr>\n",
       "    <tr>\n",
       "      <th>5</th>\n",
       "      <td>raça_3</td>\n",
       "      <td>inf</td>\n",
       "    </tr>\n",
       "  </tbody>\n",
       "</table>\n",
       "</div>"
      ],
      "text/plain": [
       "      var  vif\n",
       "0   idade  inf\n",
       "1    peso  inf\n",
       "2  raça_0  inf\n",
       "3  raça_1  inf\n",
       "4  raça_2  inf\n",
       "5  raça_3  inf"
      ]
     },
     "execution_count": 86,
     "metadata": {},
     "output_type": "execute_result"
    }
   ],
   "source": [
    "'''\n",
    "Note valores INF isso mostra uma correlação perfeita entre duas variáveis independentes. \n",
    "No caso de correlação perfeita, obtemos R2 =1, o que leva a 1/(1-R2) infinito.\n",
    "Para resolver esse problema, precisamos descartar uma das variáveis do \n",
    "conjunto de dados que está causando essa multicolinearidade perfeita.\n",
    "'''\n",
    "pontuação_vif(df)"
   ]
  },
  {
   "cell_type": "code",
   "execution_count": 87,
   "id": "b6fbb7fa",
   "metadata": {},
   "outputs": [
    {
     "data": {
      "text/html": [
       "<div>\n",
       "<style scoped>\n",
       "    .dataframe tbody tr th:only-of-type {\n",
       "        vertical-align: middle;\n",
       "    }\n",
       "\n",
       "    .dataframe tbody tr th {\n",
       "        vertical-align: top;\n",
       "    }\n",
       "\n",
       "    .dataframe thead th {\n",
       "        text-align: right;\n",
       "    }\n",
       "</style>\n",
       "<table border=\"1\" class=\"dataframe\">\n",
       "  <thead>\n",
       "    <tr style=\"text-align: right;\">\n",
       "      <th></th>\n",
       "      <th>var</th>\n",
       "      <th>vif</th>\n",
       "    </tr>\n",
       "  </thead>\n",
       "  <tbody>\n",
       "    <tr>\n",
       "      <th>2</th>\n",
       "      <td>raça_1</td>\n",
       "      <td>4.24</td>\n",
       "    </tr>\n",
       "    <tr>\n",
       "      <th>4</th>\n",
       "      <td>raça_3</td>\n",
       "      <td>3.88</td>\n",
       "    </tr>\n",
       "    <tr>\n",
       "      <th>3</th>\n",
       "      <td>raça_2</td>\n",
       "      <td>3.00</td>\n",
       "    </tr>\n",
       "    <tr>\n",
       "      <th>1</th>\n",
       "      <td>raça_0</td>\n",
       "      <td>1.72</td>\n",
       "    </tr>\n",
       "    <tr>\n",
       "      <th>0</th>\n",
       "      <td>idade</td>\n",
       "      <td>1.38</td>\n",
       "    </tr>\n",
       "  </tbody>\n",
       "</table>\n",
       "</div>"
      ],
      "text/plain": [
       "      var   vif\n",
       "2  raça_1  4.24\n",
       "4  raça_3  3.88\n",
       "3  raça_2  3.00\n",
       "1  raça_0  1.72\n",
       "0   idade  1.38"
      ]
     },
     "execution_count": 87,
     "metadata": {},
     "output_type": "execute_result"
    }
   ],
   "source": [
    "# Testando excluir colunas par diminuir a multicolinearidade\n",
    "# OBS: Teste excluir a coluna 0 depois a 1, vc vai notar a diferenca\n",
    "df = df.drop(df.columns[[1]], axis=1)\n",
    "pontuação_vif(df)"
   ]
  },
  {
   "cell_type": "markdown",
   "id": "f9c5d415",
   "metadata": {},
   "source": [
    "NOTA: <br>\n",
    "excluindo a coluna 0 temos vif maiores que 5<br>\n",
    "excluindo a coluna 1 todos os vifs ficamabaixo de 5"
   ]
  },
  {
   "cell_type": "code",
   "execution_count": null,
   "id": "03b71862",
   "metadata": {},
   "outputs": [],
   "source": []
  }
 ],
 "metadata": {
  "kernelspec": {
   "display_name": "Python 3 (ipykernel)",
   "language": "python",
   "name": "python3"
  },
  "language_info": {
   "codemirror_mode": {
    "name": "ipython",
    "version": 3
   },
   "file_extension": ".py",
   "mimetype": "text/x-python",
   "name": "python",
   "nbconvert_exporter": "python",
   "pygments_lexer": "ipython3",
   "version": "3.9.12"
  }
 },
 "nbformat": 4,
 "nbformat_minor": 5
}
